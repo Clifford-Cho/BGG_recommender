{
 "cells": [
  {
   "cell_type": "markdown",
   "id": "29cabdae-adf0-481d-befe-acc4496fe800",
   "metadata": {},
   "source": [
    "# BoardGameGeek Recommender System"
   ]
  },
  {
   "cell_type": "code",
   "execution_count": 4,
   "id": "497ba696",
   "metadata": {},
   "outputs": [],
   "source": [
    "# Import Libraries\n",
    "import pandas as pd\n",
    "import numpy as np\n",
    "from scipy import sparse\n",
    "from sklearn.metrics.pairwise import cosine_distances"
   ]
  },
  {
   "cell_type": "code",
   "execution_count": 5,
   "id": "cbab69f7",
   "metadata": {},
   "outputs": [],
   "source": [
    "# Import data\n",
    "rank_df = pd.read_csv('../data/ranked_data.csv', index_col=0).iloc[:2025]\n",
    "rank_df.index = rank_df.collection_rank\n",
    "cat_df = pd.read_csv('../data/cat_data.csv', index_col = 0)\n",
    "\n",
    "# The recommender results are located within the recommender.csv so user_df is not needed\n",
    "\n",
    "# # Due to memory allocation issues, all dtypes should be changed into 32 bit\n",
    "# user_df = pd.read_csv('../data/user_ratings.csv').drop('Unnamed: 0', axis = 1)\n",
    "# user_df['id'] = user_df['id'].astype(np.int32)\n",
    "# user_df['username'] = user_df['username'].astype(np.int32)\n",
    "# user_df['rating'] = user_df['rating'].astype(np.float32)"
   ]
  },
  {
   "cell_type": "code",
   "execution_count": 6,
   "id": "0ef61266-65f8-4718-9eb2-8684854280b1",
   "metadata": {},
   "outputs": [],
   "source": [
    "# Function to create a recommender model\n",
    "def create_recommender():\n",
    "    # Create pivot table\n",
    "    pivot = user_df.pivot_table(index='game', columns='username', values='rating')\n",
    "\n",
    "    # Create sparse matrix\n",
    "    pivot_sparse = sparse.csr_matrix(pivot.fillna(0))\n",
    "\n",
    "    # Create cosine distances based on pivot_sparse\n",
    "    distances = cosine_distances(pivot_sparse)\n",
    "\n",
    "    # Get distance values for recommender\n",
    "    recommender = 1.0 - distances\n",
    "\n",
    "    # Create recommender dataframe\n",
    "    recommender_df = pd.DataFrame(recommender, index=pivot.index, columns=pivot.index)\n",
    "    recommender_df.columns.name = None\n",
    "\n",
    "    # Export model\n",
    "    recommender_df.to_csv('../data/recommender.csv')"
   ]
  },
  {
   "cell_type": "code",
   "execution_count": 7,
   "id": "308f38c0",
   "metadata": {},
   "outputs": [],
   "source": [
    "# Get recommender dataframe\n",
    "recommender_df = pd.read_csv('../data/recommender.csv', index_col=0)"
   ]
  },
  {
   "cell_type": "code",
   "execution_count": 8,
   "id": "478a35a5-22d9-4757-ba08-b3229be2b499",
   "metadata": {},
   "outputs": [
    {
     "name": "stdout",
     "output_type": "stream",
     "text": [
      "Gloomhaven\n"
     ]
    },
    {
     "data": {
      "text/plain": [
       "collection_rank\n",
       "1                         Gloomhaven\n",
       "5       Gloomhaven: Jaws of the Lion\n",
       "1741          Founders of Gloomhaven\n",
       "Name: name, dtype: object"
      ]
     },
     "execution_count": 8,
     "metadata": {},
     "output_type": "execute_result"
    }
   ],
   "source": [
    "# Example of getting list of games from rank_df\n",
    "search = input()\n",
    "rank_df.loc[rank_df['name'].str.contains(search), 'name']"
   ]
  },
  {
   "cell_type": "code",
   "execution_count": 9,
   "id": "da81a9aa",
   "metadata": {},
   "outputs": [],
   "source": [
    "# Function to get list of categories from cat_df\n",
    "def get_cats(name):\n",
    "    categories = cat_df[cat_df['name'] == name]['categories']\n",
    "    new_list = []\n",
    "    for cats in categories:\n",
    "        test = cats.replace(\"'\", '')\n",
    "        test = test[1:-1].split(', ')\n",
    "        for cat in test:\n",
    "            if cat != 'N/A':\n",
    "                new_list.append(cat)\n",
    "        return new_list\n",
    "\n",
    "# Function to take categories and input them into a string\n",
    "def cats(name):\n",
    "    categories = get_cats(name)\n",
    "#     print(len(categories))\n",
    "    sentence = ', '.join(categories)\n",
    "    \n",
    "    if len(categories) == 0:\n",
    "        return (f'Sorry! {name} does not have any categories listed on BoardGameGeek.')\n",
    "    else:\n",
    "        return (f'The categories of {name} are:\\n{sentence}')"
   ]
  },
  {
   "cell_type": "code",
   "execution_count": 10,
   "id": "cdb01c8f",
   "metadata": {},
   "outputs": [
    {
     "data": {
      "text/plain": [
       "'The categories of Gloomhaven are:\\nAdventure, Exploration, Fantasy, Fighting, Miniatures'"
      ]
     },
     "execution_count": 10,
     "metadata": {},
     "output_type": "execute_result"
    }
   ],
   "source": [
    "cats('Gloomhaven')"
   ]
  },
  {
   "cell_type": "code",
   "execution_count": 11,
   "id": "a1508f4f-22b8-4687-9c46-a25e89e257ac",
   "metadata": {},
   "outputs": [],
   "source": [
    "# Recommender uses input to produce recommendations\n",
    "def BGG_recommender(specific = False):\n",
    "    # The recommender will use user input in order to search through rank_df\n",
    "    print('Hello, please input a search term.\\n')\n",
    "    search = input()\n",
    "    print('')\n",
    "\n",
    "    # Accounts for wrong inputs and games that aren't in the dataframe\n",
    "    if len(rank_df.loc[rank_df['name'].str.contains(search), 'name']) == 0:\n",
    "            return('Sorry, there are no games containing that input!')\n",
    "    \n",
    "    # Shows top 10 game recommendations. If more are desired, change the sort_values index\n",
    "    elif specific == False:\n",
    "        for game_name in rank_df.loc[rank_df['name'].str.contains(search), 'name']:\n",
    "            print(f'These are the top 10 recommendations for {game_name}.\\n')\n",
    "            print(recommender_df[game_name].sort_values(ascending=False)[1:11], '\\n')\n",
    "            \n",
    "            # Displays categorical data of the search results, not the recommendations\n",
    "            print(cats(game_name), '\\n')\n",
    "            print('----------------', '\\n')\n",
    "    \n",
    "    # If you only want one game, specific should be True.\n",
    "    else:\n",
    "        print(f'These are the top 10 recommendations for {search}.\\n')\n",
    "        print(recommender_df[search].sort_values(ascending=False)[1:11], '\\n')\n",
    "            \n",
    "        # Displays categorical data of the search results, not the recommendations\n",
    "        print(cats(search), '\\n')\n",
    "        print('----------------', '\\n')"
   ]
  },
  {
   "cell_type": "code",
   "execution_count": 12,
   "id": "53017758",
   "metadata": {},
   "outputs": [
    {
     "name": "stdout",
     "output_type": "stream",
     "text": [
      "Hello, please input a search term.\n",
      "\n",
      "Gloomhaven\n",
      "\n",
      "These are the top 10 recommendations for Gloomhaven.\n",
      "\n",
      "Scythe                                 0.395147\n",
      "Terraforming Mars                      0.388456\n",
      "Pandemic Legacy: Season 1              0.379385\n",
      "Spirit Island                          0.366539\n",
      "The 7th Continent                      0.344982\n",
      "Arkham Horror: The Card Game           0.336045\n",
      "Blood Rage                             0.318578\n",
      "Mage Knight Board Game                 0.316474\n",
      "Mansions of Madness: Second Edition    0.315673\n",
      "Wingspan                               0.315364\n",
      "Name: Gloomhaven, dtype: float64 \n",
      "\n",
      "The categories of Gloomhaven are:\n",
      "Adventure, Exploration, Fantasy, Fighting, Miniatures \n",
      "\n",
      "---------------- \n",
      "\n",
      "These are the top 10 recommendations for Gloomhaven: Jaws of the Lion.\n",
      "\n",
      "Gloomhaven                             0.272214\n",
      "The Crew: The Quest for Planet Nine    0.260811\n",
      "Wingspan                               0.252880\n",
      "Spirit Island                          0.249844\n",
      "The Quacks of Quedlinburg              0.223597\n",
      "Terraforming Mars                      0.216779\n",
      "Everdell                               0.216027\n",
      "Scythe                                 0.213121\n",
      "Azul                                   0.212505\n",
      "Arkham Horror: The Card Game           0.212298\n",
      "Name: Gloomhaven: Jaws of the Lion, dtype: float64 \n",
      "\n",
      "The categories of Gloomhaven: Jaws of the Lion are:\n",
      "Adventure, Exploration, Fantasy, Fighting, Miniatures \n",
      "\n",
      "---------------- \n",
      "\n",
      "These are the top 10 recommendations for Founders of Gloomhaven.\n",
      "\n",
      "Anachrony                          0.177643\n",
      "Lisboa                             0.171261\n",
      "Gloomhaven                         0.169901\n",
      "Teotihuacan: City of Gods          0.165821\n",
      "Clans of Caledonia                 0.164839\n",
      "A Feast for Odin                   0.164046\n",
      "The Gallerist                      0.161567\n",
      "Trickerion: Legends of Illusion    0.160625\n",
      "The Colonists                      0.158549\n",
      "Escape Plan                        0.155852\n",
      "Name: Founders of Gloomhaven, dtype: float64 \n",
      "\n",
      "The categories of Founders of Gloomhaven are:\n",
      "City Building, Economic, Fantasy \n",
      "\n",
      "---------------- \n",
      "\n"
     ]
    }
   ],
   "source": [
    "BGG_recommender()"
   ]
  }
 ],
 "metadata": {
  "environment": {
   "name": "common-cpu.m80",
   "type": "gcloud",
   "uri": "gcr.io/deeplearning-platform-release/base-cpu:m80"
  },
  "kernelspec": {
   "display_name": "Python 3",
   "language": "python",
   "name": "python3"
  },
  "language_info": {
   "codemirror_mode": {
    "name": "ipython",
    "version": 3
   },
   "file_extension": ".py",
   "mimetype": "text/x-python",
   "name": "python",
   "nbconvert_exporter": "python",
   "pygments_lexer": "ipython3",
   "version": "3.8.8"
  }
 },
 "nbformat": 4,
 "nbformat_minor": 5
}
