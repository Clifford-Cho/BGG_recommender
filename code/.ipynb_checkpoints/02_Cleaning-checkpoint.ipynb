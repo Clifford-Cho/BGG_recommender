{
 "cells": [
  {
   "cell_type": "markdown",
   "id": "12c80f4f",
   "metadata": {},
   "source": [
    "# Data Cleaning"
   ]
  },
  {
   "cell_type": "code",
   "execution_count": 1,
   "id": "26ca4f92",
   "metadata": {},
   "outputs": [],
   "source": [
    "# Import libraries\n",
    "import pandas as pd\n",
    "import numpy as np\n",
    "import matplotlib.pyplot as plt\n",
    "import seaborn as sns\n",
    "\n",
    "import os #listdir(path)"
   ]
  },
  {
   "cell_type": "markdown",
   "id": "df3a1aca",
   "metadata": {},
   "source": [
    "## Part 1 - ID and Rankings"
   ]
  },
  {
   "cell_type": "code",
   "execution_count": 2,
   "id": "7e708d52",
   "metadata": {},
   "outputs": [
    {
     "data": {
      "text/html": [
       "<div>\n",
       "<style scoped>\n",
       "    .dataframe tbody tr th:only-of-type {\n",
       "        vertical-align: middle;\n",
       "    }\n",
       "\n",
       "    .dataframe tbody tr th {\n",
       "        vertical-align: top;\n",
       "    }\n",
       "\n",
       "    .dataframe thead th {\n",
       "        text-align: right;\n",
       "    }\n",
       "</style>\n",
       "<table border=\"1\" class=\"dataframe\">\n",
       "  <thead>\n",
       "    <tr style=\"text-align: right;\">\n",
       "      <th></th>\n",
       "      <th>id</th>\n",
       "      <th>name</th>\n",
       "      <th>collection_rank</th>\n",
       "      <th>geek_rating</th>\n",
       "      <th>avg_rating</th>\n",
       "      <th>num_voters</th>\n",
       "      <th>price</th>\n",
       "    </tr>\n",
       "  </thead>\n",
       "  <tbody>\n",
       "    <tr>\n",
       "      <th>0</th>\n",
       "      <td>174430</td>\n",
       "      <td>Gloomhaven</td>\n",
       "      <td>1</td>\n",
       "      <td>8.529</td>\n",
       "      <td>8.76</td>\n",
       "      <td>45590</td>\n",
       "      <td>$107.99</td>\n",
       "    </tr>\n",
       "    <tr>\n",
       "      <th>1</th>\n",
       "      <td>161936</td>\n",
       "      <td>Pandemic Legacy: Season 1</td>\n",
       "      <td>2</td>\n",
       "      <td>8.452</td>\n",
       "      <td>8.60</td>\n",
       "      <td>43674</td>\n",
       "      <td>$79.99</td>\n",
       "    </tr>\n",
       "    <tr>\n",
       "      <th>2</th>\n",
       "      <td>224517</td>\n",
       "      <td>Brass: Birmingham</td>\n",
       "      <td>3</td>\n",
       "      <td>8.409</td>\n",
       "      <td>8.67</td>\n",
       "      <td>23026</td>\n",
       "      <td>$89.95</td>\n",
       "    </tr>\n",
       "    <tr>\n",
       "      <th>3</th>\n",
       "      <td>167791</td>\n",
       "      <td>Terraforming Mars</td>\n",
       "      <td>4</td>\n",
       "      <td>8.279</td>\n",
       "      <td>8.42</td>\n",
       "      <td>70383</td>\n",
       "      <td>$49.31</td>\n",
       "    </tr>\n",
       "    <tr>\n",
       "      <th>4</th>\n",
       "      <td>291457</td>\n",
       "      <td>Gloomhaven: Jaws of the Lion</td>\n",
       "      <td>5</td>\n",
       "      <td>8.262</td>\n",
       "      <td>8.75</td>\n",
       "      <td>13053</td>\n",
       "      <td>$34.93</td>\n",
       "    </tr>\n",
       "  </tbody>\n",
       "</table>\n",
       "</div>"
      ],
      "text/plain": [
       "       id                          name  collection_rank  geek_rating  \\\n",
       "0  174430                    Gloomhaven                1        8.529   \n",
       "1  161936     Pandemic Legacy: Season 1                2        8.452   \n",
       "2  224517             Brass: Birmingham                3        8.409   \n",
       "3  167791             Terraforming Mars                4        8.279   \n",
       "4  291457  Gloomhaven: Jaws of the Lion                5        8.262   \n",
       "\n",
       "   avg_rating  num_voters    price  \n",
       "0        8.76       45590  $107.99  \n",
       "1        8.60       43674   $79.99  \n",
       "2        8.67       23026   $89.95  \n",
       "3        8.42       70383   $49.31  \n",
       "4        8.75       13053   $34.93  "
      ]
     },
     "execution_count": 2,
     "metadata": {},
     "output_type": "execute_result"
    }
   ],
   "source": [
    "# Import data\n",
    "rank_df = pd.read_csv('../data/ranked_data.csv', index_col=0)\n",
    "rank_df.head()"
   ]
  },
  {
   "cell_type": "code",
   "execution_count": 3,
   "id": "3725b140",
   "metadata": {},
   "outputs": [
    {
     "data": {
      "text/plain": [
       "id                 0\n",
       "name               0\n",
       "collection_rank    0\n",
       "geek_rating        0\n",
       "avg_rating         0\n",
       "num_voters         0\n",
       "price              0\n",
       "dtype: int64"
      ]
     },
     "execution_count": 3,
     "metadata": {},
     "output_type": "execute_result"
    }
   ],
   "source": [
    "# Check for nulls in first 3 columns\n",
    "rank_df.isnull().sum()"
   ]
  },
  {
   "cell_type": "code",
   "execution_count": 4,
   "id": "e37c48ad",
   "metadata": {},
   "outputs": [],
   "source": [
    "# Drop duplicates\n",
    "rank_df = rank_df.drop_duplicates()"
   ]
  },
  {
   "cell_type": "markdown",
   "id": "c8d87251",
   "metadata": {},
   "source": [
    "## Part 2 - Categorical data"
   ]
  },
  {
   "cell_type": "code",
   "execution_count": 2,
   "id": "86bca102",
   "metadata": {},
   "outputs": [],
   "source": [
    "# Get categorical data\n",
    "cat_df = pd.read_csv('../data/cat_data.csv', index_col=0)"
   ]
  },
  {
   "cell_type": "code",
   "execution_count": 71,
   "id": "b66e98ed",
   "metadata": {},
   "outputs": [
    {
     "data": {
      "text/plain": [
       "id             0\n",
       "name           0\n",
       "year           0\n",
       "min_players    0\n",
       "max_players    0\n",
       "playtime       0\n",
       "min_time       0\n",
       "max_time       0\n",
       "min_age        0\n",
       "dtype: int64"
      ]
     },
     "execution_count": 71,
     "metadata": {},
     "output_type": "execute_result"
    }
   ],
   "source": [
    "# Check for nulls\n",
    "cat_df.iloc[:,:9].isnull().sum()"
   ]
  },
  {
   "cell_type": "code",
   "execution_count": 72,
   "id": "920629f6",
   "metadata": {},
   "outputs": [],
   "source": [
    "# Drop excess categories\n",
    "try:\n",
    "    stop = cat_df.columns.get_loc('mech_1')\n",
    "    cat_df = cat_df.iloc[:,:stop]\n",
    "except:\n",
    "    pass"
   ]
  },
  {
   "cell_type": "code",
   "execution_count": 73,
   "id": "82cd4219",
   "metadata": {},
   "outputs": [],
   "source": [
    "# Fill nulls\n",
    "cat_df = cat_df.fillna('N/A')"
   ]
  },
  {
   "cell_type": "code",
   "execution_count": 95,
   "id": "4304adde",
   "metadata": {},
   "outputs": [],
   "source": [
    "# Create column with list of categories\n",
    "cat_df['categories'] = cat_df.iloc[:,9:14].values.tolist()"
   ]
  },
  {
   "cell_type": "markdown",
   "id": "af26b5f9",
   "metadata": {},
   "source": [
    "## Part 3 - Aggregating User Data"
   ]
  },
  {
   "cell_type": "code",
   "execution_count": 8,
   "id": "b1e28c15",
   "metadata": {
    "scrolled": true
   },
   "outputs": [],
   "source": [
    "# Import dataframe\n",
    "df = pd.read_csv('../data/user_ratings.csv')"
   ]
  },
  {
   "cell_type": "code",
   "execution_count": 9,
   "id": "c0894579",
   "metadata": {},
   "outputs": [],
   "source": [
    "def agg_ratings():\n",
    "    # Create directory path\n",
    "    data_path = '../data/game_ratings/'\n",
    "\n",
    "    # Get files\n",
    "    files = os.listdir(data_path)\n",
    "\n",
    "    # Import and concat all csvs\n",
    "    df = pd.DataFrame()\n",
    "\n",
    "    # Go through csvs\n",
    "    for file in files:\n",
    "        new = pd.read_csv(data_path+file, index_col=0)\n",
    "        df = pd.concat([df, new], ignore_index=True)\n",
    "    \n",
    "    return df"
   ]
  },
  {
   "cell_type": "code",
   "execution_count": 10,
   "id": "7ac92472",
   "metadata": {},
   "outputs": [],
   "source": [
    "def agg_ratings2(data):\n",
    "    # Create directory path\n",
    "    data_path = '../data/game_ratings2/'\n",
    "\n",
    "    # Get files\n",
    "    files = os.listdir(data_path)\n",
    "\n",
    "    # Go through csvs\n",
    "    for file in files:\n",
    "        new = pd.read_csv(data_path+file, index_col=0)\n",
    "        data = pd.concat([data, new], ignore_index=True)\n",
    "    \n",
    "    return data\n",
    "\n",
    "# # Fill last of df\n",
    "# df = agg_ratings2(df)"
   ]
  },
  {
   "cell_type": "code",
   "execution_count": 11,
   "id": "11a62c0c",
   "metadata": {},
   "outputs": [],
   "source": [
    "def user_clean(data):\n",
    "    # Drop Unnamed: 0 column\n",
    "    data.drop('Unnamed: 0', axis = 1, inplace=True)\n",
    "\n",
    "    # Drop value column\n",
    "    data.drop('value', axis = 1, inplace=True)\n",
    "\n",
    "    # Drop all nulls and duplicates\n",
    "    data = data.dropna().drop_duplicates()\n",
    "\n",
    "    # Change users to categorical numbers\n",
    "    data['username'] = data['username'].astype('category').cat.codes\n",
    "    \n",
    "    return data"
   ]
  },
  {
   "cell_type": "code",
   "execution_count": 12,
   "id": "e7bbc814",
   "metadata": {},
   "outputs": [
    {
     "data": {
      "text/plain": [
       "Unnamed: 0    0\n",
       "id            0\n",
       "username      0\n",
       "rating        0\n",
       "game          0\n",
       "rank          0\n",
       "dtype: int64"
      ]
     },
     "execution_count": 12,
     "metadata": {},
     "output_type": "execute_result"
    }
   ],
   "source": [
    "# Check for nulls\n",
    "df.isnull().sum()"
   ]
  },
  {
   "cell_type": "code",
   "execution_count": 13,
   "id": "455747cb",
   "metadata": {
    "scrolled": true
   },
   "outputs": [
    {
     "data": {
      "text/plain": [
       "2008"
      ]
     },
     "execution_count": 13,
     "metadata": {},
     "output_type": "execute_result"
    }
   ],
   "source": [
    "# Check how many games there are\n",
    "len(df['id'].unique())"
   ]
  },
  {
   "cell_type": "code",
   "execution_count": 14,
   "id": "5abc2d2d",
   "metadata": {},
   "outputs": [
    {
     "name": "stdout",
     "output_type": "stream",
     "text": [
      "12638466 361223\n"
     ]
    },
    {
     "data": {
      "text/plain": [
       "321661    1881\n",
       "78691     1867\n",
       "276979    1765\n",
       "169679    1484\n",
       "169842    1462\n",
       "          ... \n",
       "161422       1\n",
       "153226       1\n",
       "75889        1\n",
       "305345       1\n",
       "0            1\n",
       "Name: username, Length: 361223, dtype: int64"
      ]
     },
     "execution_count": 14,
     "metadata": {},
     "output_type": "execute_result"
    }
   ],
   "source": [
    "# Is there user overlap?\n",
    "print(len(df), len(df['username'].unique()))\n",
    "df['username'].value_counts()"
   ]
  },
  {
   "cell_type": "code",
   "execution_count": 15,
   "id": "e3f3e6b2",
   "metadata": {
    "scrolled": true
   },
   "outputs": [],
   "source": [
    "# Get game names\n",
    "names = pd.read_csv('../data/ranked_data.csv', index_col=0)\n",
    "name_to_id = dict(zip(names['id'], names['name']))\n",
    "rank_to_id = dict(zip(names['id'], names['collection_rank']))"
   ]
  },
  {
   "cell_type": "code",
   "execution_count": 17,
   "id": "50b4cb63",
   "metadata": {},
   "outputs": [],
   "source": [
    "# Create list relating names to id\n",
    "game_names = [name_to_id[game_id] for game_id in df['id']]\n",
    "game_ranks = [rank_to_id[game_id] for game_id in df['id']]\n",
    "df['game'] = game_names\n",
    "df['rank'] = game_ranks"
   ]
  },
  {
   "cell_type": "markdown",
   "id": "2c43cacf",
   "metadata": {},
   "source": [
    "## Part 4 - Final Check"
   ]
  },
  {
   "cell_type": "code",
   "execution_count": 18,
   "id": "d025aaf0",
   "metadata": {},
   "outputs": [
    {
     "name": "stdout",
     "output_type": "stream",
     "text": [
      "2020\n",
      "2008\n"
     ]
    }
   ],
   "source": [
    "# Check for any absent ids that need to be gathered\n",
    "print(len(set(cat_df['id'])))\n",
    "print(len(set(df['id'])))\n",
    "remove = list(set(cat_df['id']) - set(df['id']))"
   ]
  },
  {
   "cell_type": "markdown",
   "id": "8b7ddaf3",
   "metadata": {},
   "source": [
    "Since the user data is the one with less ids than the categorical data, all necessary user games are accounted for."
   ]
  },
  {
   "cell_type": "code",
   "execution_count": 108,
   "id": "65540c6d",
   "metadata": {},
   "outputs": [],
   "source": [
    "# Export data\n",
    "# rank_df.to_csv('../data/ranked_data.csv')\n",
    "# cat_df.to_csv('../data/cat_data.csv')\n",
    "# df.to_csv('../data/user_ratings.csv')"
   ]
  }
 ],
 "metadata": {
  "kernelspec": {
   "display_name": "Python 3",
   "language": "python",
   "name": "python3"
  },
  "language_info": {
   "codemirror_mode": {
    "name": "ipython",
    "version": 3
   },
   "file_extension": ".py",
   "mimetype": "text/x-python",
   "name": "python",
   "nbconvert_exporter": "python",
   "pygments_lexer": "ipython3",
   "version": "3.8.8"
  }
 },
 "nbformat": 4,
 "nbformat_minor": 5
}
